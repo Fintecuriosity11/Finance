{
  "nbformat": 4,
  "nbformat_minor": 0,
  "metadata": {
    "colab": {
      "name": "파이썬튜토리얼(3).ipynb",
      "provenance": [],
      "collapsed_sections": []
    },
    "kernelspec": {
      "name": "python3",
      "display_name": "Python 3"
    },
    "accelerator": "GPU"
  },
  "cells": [
    {
      "cell_type": "markdown",
      "metadata": {
        "colab_type": "text",
        "id": "J2NKLxYf_YEl"
      },
      "source": [
        "# 통계적인 분석을 위한 라이브러리: statsmodels , scipy \n",
        "\n",
        "\n",
        "\n",
        "\n",
        "\n",
        "\n",
        "\n",
        "\n",
        "\n",
        "\n"
      ]
    },
    {
      "cell_type": "markdown",
      "metadata": {
        "id": "cLlqs0mlkKA1",
        "colab_type": "text"
      },
      "source": [
        "데이터를 가져와서 작업해 보아요!\n",
        "---\n",
        "\n",
        "[데이터를 가져오는 대표적인 방법]\n",
        "\n",
        "-원하는 데이터가 담긴 엑셀 파일을 다운\n",
        "\n",
        "**-금융 데이터 수집 라이브러리 이용(가격 정보)**\n",
        "\n",
        "-웹크롤링"
      ]
    },
    {
      "cell_type": "code",
      "metadata": {
        "colab_type": "code",
        "id": "wXLRpFch_YEe",
        "outputId": "0e6590e0-ed70-422f-8f0e-76966f338f3f",
        "colab": {
          "base_uri": "https://localhost:8080/",
          "height": 336
        }
      },
      "source": [
        "pip install -U finance-datareader #외부 라이브러리의 경우 설치를 해주어야 import 해 올 수 있다."
      ],
      "execution_count": 0,
      "outputs": [
        {
          "output_type": "stream",
          "text": [
            "Collecting finance-datareader\n",
            "  Downloading https://files.pythonhosted.org/packages/e1/f5/81afe9b4f9ab768e3222a749822b34d1a0fed66bcdb5c7e261353fb9da67/finance_datareader-0.9.5-py3-none-any.whl\n",
            "Requirement already satisfied, skipping upgrade: pandas>=0.19.2 in /usr/local/lib/python3.6/dist-packages (from finance-datareader) (0.25.3)\n",
            "Collecting requests-file\n",
            "  Downloading https://files.pythonhosted.org/packages/23/9c/6e63c23c39e53d3df41c77a3d05a49a42c4e1383a6d2a5e3233161b89dbf/requests_file-1.4.3-py2.py3-none-any.whl\n",
            "Requirement already satisfied, skipping upgrade: requests>=2.3.0 in /usr/local/lib/python3.6/dist-packages (from finance-datareader) (2.21.0)\n",
            "Requirement already satisfied, skipping upgrade: lxml in /usr/local/lib/python3.6/dist-packages (from finance-datareader) (4.2.6)\n",
            "Requirement already satisfied, skipping upgrade: numpy>=1.13.3 in /usr/local/lib/python3.6/dist-packages (from pandas>=0.19.2->finance-datareader) (1.18.2)\n",
            "Requirement already satisfied, skipping upgrade: pytz>=2017.2 in /usr/local/lib/python3.6/dist-packages (from pandas>=0.19.2->finance-datareader) (2018.9)\n",
            "Requirement already satisfied, skipping upgrade: python-dateutil>=2.6.1 in /usr/local/lib/python3.6/dist-packages (from pandas>=0.19.2->finance-datareader) (2.8.1)\n",
            "Requirement already satisfied, skipping upgrade: six in /usr/local/lib/python3.6/dist-packages (from requests-file->finance-datareader) (1.12.0)\n",
            "Requirement already satisfied, skipping upgrade: urllib3<1.25,>=1.21.1 in /usr/local/lib/python3.6/dist-packages (from requests>=2.3.0->finance-datareader) (1.24.3)\n",
            "Requirement already satisfied, skipping upgrade: certifi>=2017.4.17 in /usr/local/lib/python3.6/dist-packages (from requests>=2.3.0->finance-datareader) (2019.11.28)\n",
            "Requirement already satisfied, skipping upgrade: idna<2.9,>=2.5 in /usr/local/lib/python3.6/dist-packages (from requests>=2.3.0->finance-datareader) (2.8)\n",
            "Requirement already satisfied, skipping upgrade: chardet<3.1.0,>=3.0.2 in /usr/local/lib/python3.6/dist-packages (from requests>=2.3.0->finance-datareader) (3.0.4)\n",
            "Installing collected packages: requests-file, finance-datareader\n",
            "Successfully installed finance-datareader-0.9.5 requests-file-1.4.3\n"
          ],
          "name": "stdout"
        }
      ]
    },
    {
      "cell_type": "code",
      "metadata": {
        "id": "YAehhkvSVL0Y",
        "colab_type": "code",
        "colab": {}
      },
      "source": [
        "import FinanceDataReader as fdr #금융 데이터 수집 라이브러리\n",
        "import matplotlib.pyplot as plt\n",
        "import numpy as np\n",
        "import pandas as pd\n",
        "import time"
      ],
      "execution_count": 0,
      "outputs": []
    },
    {
      "cell_type": "markdown",
      "metadata": {
        "id": "O_x1jiHTkwM3",
        "colab_type": "text"
      },
      "source": [
        "Capital Asset Pricing Model(CAPM)\n",
        "\n",
        "개별자산수익률 <- 개별자산가격에서 수익률 계산 ->삼성전자\n",
        "\n",
        "\n",
        "무위험자산수익률 <- 무위험자산의 대용치 가격을 찾고, 수익률 계산 ->KODEX 단기자금(ETF)\n",
        "\n",
        "\n",
        "시장수익률 <- 시장의 대용치 가격을 찾고, 수익률계산->코스피지수\n",
        "\n"
      ]
    },
    {
      "cell_type": "code",
      "metadata": {
        "id": "5xvRufzsVUV5",
        "colab_type": "code",
        "outputId": "b21aefe6-7502-4094-80fd-505e119138fc",
        "colab": {
          "base_uri": "https://localhost:8080/",
          "height": 225
        }
      },
      "source": [
        "s1 = fdr.DataReader('005930','2019')\n",
        "s1.head()"
      ],
      "execution_count": 0,
      "outputs": [
        {
          "output_type": "execute_result",
          "data": {
            "text/html": [
              "<div>\n",
              "<style scoped>\n",
              "    .dataframe tbody tr th:only-of-type {\n",
              "        vertical-align: middle;\n",
              "    }\n",
              "\n",
              "    .dataframe tbody tr th {\n",
              "        vertical-align: top;\n",
              "    }\n",
              "\n",
              "    .dataframe thead th {\n",
              "        text-align: right;\n",
              "    }\n",
              "</style>\n",
              "<table border=\"1\" class=\"dataframe\">\n",
              "  <thead>\n",
              "    <tr style=\"text-align: right;\">\n",
              "      <th></th>\n",
              "      <th>Open</th>\n",
              "      <th>High</th>\n",
              "      <th>Low</th>\n",
              "      <th>Close</th>\n",
              "      <th>Volume</th>\n",
              "      <th>Change</th>\n",
              "    </tr>\n",
              "    <tr>\n",
              "      <th>Date</th>\n",
              "      <th></th>\n",
              "      <th></th>\n",
              "      <th></th>\n",
              "      <th></th>\n",
              "      <th></th>\n",
              "      <th></th>\n",
              "    </tr>\n",
              "  </thead>\n",
              "  <tbody>\n",
              "    <tr>\n",
              "      <th>2019-01-02</th>\n",
              "      <td>39400</td>\n",
              "      <td>39400</td>\n",
              "      <td>38550</td>\n",
              "      <td>38750</td>\n",
              "      <td>7847664</td>\n",
              "      <td>0.001292</td>\n",
              "    </tr>\n",
              "    <tr>\n",
              "      <th>2019-01-03</th>\n",
              "      <td>38300</td>\n",
              "      <td>38550</td>\n",
              "      <td>37450</td>\n",
              "      <td>37600</td>\n",
              "      <td>12471493</td>\n",
              "      <td>-0.029677</td>\n",
              "    </tr>\n",
              "    <tr>\n",
              "      <th>2019-01-04</th>\n",
              "      <td>37450</td>\n",
              "      <td>37600</td>\n",
              "      <td>36850</td>\n",
              "      <td>37450</td>\n",
              "      <td>14108958</td>\n",
              "      <td>-0.003989</td>\n",
              "    </tr>\n",
              "    <tr>\n",
              "      <th>2019-01-07</th>\n",
              "      <td>38000</td>\n",
              "      <td>38900</td>\n",
              "      <td>37800</td>\n",
              "      <td>38750</td>\n",
              "      <td>12748997</td>\n",
              "      <td>0.034713</td>\n",
              "    </tr>\n",
              "    <tr>\n",
              "      <th>2019-01-08</th>\n",
              "      <td>38000</td>\n",
              "      <td>39200</td>\n",
              "      <td>37950</td>\n",
              "      <td>38100</td>\n",
              "      <td>12756554</td>\n",
              "      <td>-0.016774</td>\n",
              "    </tr>\n",
              "  </tbody>\n",
              "</table>\n",
              "</div>"
            ],
            "text/plain": [
              "             Open   High    Low  Close    Volume    Change\n",
              "Date                                                      \n",
              "2019-01-02  39400  39400  38550  38750   7847664  0.001292\n",
              "2019-01-03  38300  38550  37450  37600  12471493 -0.029677\n",
              "2019-01-04  37450  37600  36850  37450  14108958 -0.003989\n",
              "2019-01-07  38000  38900  37800  38750  12748997  0.034713\n",
              "2019-01-08  38000  39200  37950  38100  12756554 -0.016774"
            ]
          },
          "metadata": {
            "tags": []
          },
          "execution_count": 38
        }
      ]
    },
    {
      "cell_type": "code",
      "metadata": {
        "id": "YJWZGaJPVt_z",
        "colab_type": "code",
        "outputId": "b4ad022e-54dc-4138-bf7d-fad23b721733",
        "colab": {
          "base_uri": "https://localhost:8080/",
          "height": 225
        }
      },
      "source": [
        "k1 = fdr.DataReader('KS11', '2019')\n",
        "k1.head()"
      ],
      "execution_count": 0,
      "outputs": [
        {
          "output_type": "execute_result",
          "data": {
            "text/html": [
              "<div>\n",
              "<style scoped>\n",
              "    .dataframe tbody tr th:only-of-type {\n",
              "        vertical-align: middle;\n",
              "    }\n",
              "\n",
              "    .dataframe tbody tr th {\n",
              "        vertical-align: top;\n",
              "    }\n",
              "\n",
              "    .dataframe thead th {\n",
              "        text-align: right;\n",
              "    }\n",
              "</style>\n",
              "<table border=\"1\" class=\"dataframe\">\n",
              "  <thead>\n",
              "    <tr style=\"text-align: right;\">\n",
              "      <th></th>\n",
              "      <th>Close</th>\n",
              "      <th>Open</th>\n",
              "      <th>High</th>\n",
              "      <th>Low</th>\n",
              "      <th>Volume</th>\n",
              "      <th>Change</th>\n",
              "    </tr>\n",
              "    <tr>\n",
              "      <th>Date</th>\n",
              "      <th></th>\n",
              "      <th></th>\n",
              "      <th></th>\n",
              "      <th></th>\n",
              "      <th></th>\n",
              "      <th></th>\n",
              "    </tr>\n",
              "  </thead>\n",
              "  <tbody>\n",
              "    <tr>\n",
              "      <th>2019-01-02</th>\n",
              "      <td>2010.00</td>\n",
              "      <td>2050.55</td>\n",
              "      <td>2053.45</td>\n",
              "      <td>2004.27</td>\n",
              "      <td>326370000.0</td>\n",
              "      <td>-0.0152</td>\n",
              "    </tr>\n",
              "    <tr>\n",
              "      <th>2019-01-03</th>\n",
              "      <td>1993.70</td>\n",
              "      <td>2011.81</td>\n",
              "      <td>2014.72</td>\n",
              "      <td>1991.65</td>\n",
              "      <td>427980000.0</td>\n",
              "      <td>-0.0081</td>\n",
              "    </tr>\n",
              "    <tr>\n",
              "      <th>2019-01-04</th>\n",
              "      <td>2010.25</td>\n",
              "      <td>1992.40</td>\n",
              "      <td>2011.56</td>\n",
              "      <td>1984.53</td>\n",
              "      <td>408990000.0</td>\n",
              "      <td>0.0083</td>\n",
              "    </tr>\n",
              "    <tr>\n",
              "      <th>2019-01-07</th>\n",
              "      <td>2037.10</td>\n",
              "      <td>2034.24</td>\n",
              "      <td>2048.06</td>\n",
              "      <td>2030.90</td>\n",
              "      <td>440190000.0</td>\n",
              "      <td>0.0134</td>\n",
              "    </tr>\n",
              "    <tr>\n",
              "      <th>2019-01-08</th>\n",
              "      <td>2025.27</td>\n",
              "      <td>2038.68</td>\n",
              "      <td>2042.70</td>\n",
              "      <td>2023.59</td>\n",
              "      <td>397830000.0</td>\n",
              "      <td>-0.0058</td>\n",
              "    </tr>\n",
              "  </tbody>\n",
              "</table>\n",
              "</div>"
            ],
            "text/plain": [
              "              Close     Open     High      Low       Volume  Change\n",
              "Date                                                               \n",
              "2019-01-02  2010.00  2050.55  2053.45  2004.27  326370000.0 -0.0152\n",
              "2019-01-03  1993.70  2011.81  2014.72  1991.65  427980000.0 -0.0081\n",
              "2019-01-04  2010.25  1992.40  2011.56  1984.53  408990000.0  0.0083\n",
              "2019-01-07  2037.10  2034.24  2048.06  2030.90  440190000.0  0.0134\n",
              "2019-01-08  2025.27  2038.68  2042.70  2023.59  397830000.0 -0.0058"
            ]
          },
          "metadata": {
            "tags": []
          },
          "execution_count": 39
        }
      ]
    },
    {
      "cell_type": "code",
      "metadata": {
        "id": "42xiRra7kmlt",
        "colab_type": "code",
        "outputId": "c799f3e6-e87d-40eb-9d93-8179cf78c39f",
        "colab": {
          "base_uri": "https://localhost:8080/",
          "height": 225
        }
      },
      "source": [
        "r1 = fdr.DataReader('153130', '2019')\n",
        "r1.head()"
      ],
      "execution_count": 0,
      "outputs": [
        {
          "output_type": "execute_result",
          "data": {
            "text/html": [
              "<div>\n",
              "<style scoped>\n",
              "    .dataframe tbody tr th:only-of-type {\n",
              "        vertical-align: middle;\n",
              "    }\n",
              "\n",
              "    .dataframe tbody tr th {\n",
              "        vertical-align: top;\n",
              "    }\n",
              "\n",
              "    .dataframe thead th {\n",
              "        text-align: right;\n",
              "    }\n",
              "</style>\n",
              "<table border=\"1\" class=\"dataframe\">\n",
              "  <thead>\n",
              "    <tr style=\"text-align: right;\">\n",
              "      <th></th>\n",
              "      <th>Open</th>\n",
              "      <th>High</th>\n",
              "      <th>Low</th>\n",
              "      <th>Close</th>\n",
              "      <th>Volume</th>\n",
              "      <th>Change</th>\n",
              "    </tr>\n",
              "    <tr>\n",
              "      <th>Date</th>\n",
              "      <th></th>\n",
              "      <th></th>\n",
              "      <th></th>\n",
              "      <th></th>\n",
              "      <th></th>\n",
              "      <th></th>\n",
              "    </tr>\n",
              "  </thead>\n",
              "  <tbody>\n",
              "    <tr>\n",
              "      <th>2019-01-02</th>\n",
              "      <td>100040</td>\n",
              "      <td>100050</td>\n",
              "      <td>100040</td>\n",
              "      <td>100045</td>\n",
              "      <td>87469</td>\n",
              "      <td>0.00010</td>\n",
              "    </tr>\n",
              "    <tr>\n",
              "      <th>2019-01-03</th>\n",
              "      <td>100070</td>\n",
              "      <td>100075</td>\n",
              "      <td>100070</td>\n",
              "      <td>100075</td>\n",
              "      <td>12636</td>\n",
              "      <td>0.00030</td>\n",
              "    </tr>\n",
              "    <tr>\n",
              "      <th>2019-01-04</th>\n",
              "      <td>100080</td>\n",
              "      <td>100085</td>\n",
              "      <td>100075</td>\n",
              "      <td>100085</td>\n",
              "      <td>19534</td>\n",
              "      <td>0.00010</td>\n",
              "    </tr>\n",
              "    <tr>\n",
              "      <th>2019-01-07</th>\n",
              "      <td>100085</td>\n",
              "      <td>100090</td>\n",
              "      <td>100085</td>\n",
              "      <td>100090</td>\n",
              "      <td>27897</td>\n",
              "      <td>0.00005</td>\n",
              "    </tr>\n",
              "    <tr>\n",
              "      <th>2019-01-08</th>\n",
              "      <td>100095</td>\n",
              "      <td>100095</td>\n",
              "      <td>100090</td>\n",
              "      <td>100090</td>\n",
              "      <td>25699</td>\n",
              "      <td>0.00000</td>\n",
              "    </tr>\n",
              "  </tbody>\n",
              "</table>\n",
              "</div>"
            ],
            "text/plain": [
              "              Open    High     Low   Close  Volume   Change\n",
              "Date                                                       \n",
              "2019-01-02  100040  100050  100040  100045   87469  0.00010\n",
              "2019-01-03  100070  100075  100070  100075   12636  0.00030\n",
              "2019-01-04  100080  100085  100075  100085   19534  0.00010\n",
              "2019-01-07  100085  100090  100085  100090   27897  0.00005\n",
              "2019-01-08  100095  100095  100090  100090   25699  0.00000"
            ]
          },
          "metadata": {
            "tags": []
          },
          "execution_count": 40
        }
      ]
    },
    {
      "cell_type": "code",
      "metadata": {
        "id": "DiZ7EnNPlBT8",
        "colab_type": "code",
        "colab": {}
      },
      "source": [
        "market_riskpremium= k1['Change']-r1['Change']\n",
        "stock_excessreturn = s1['Change']-r1['Change']"
      ],
      "execution_count": 0,
      "outputs": []
    },
    {
      "cell_type": "code",
      "metadata": {
        "id": "TxFuGkUKW-ue",
        "colab_type": "code",
        "colab": {}
      },
      "source": [
        "#회귀 분석\n",
        "import statsmodels.api as sm"
      ],
      "execution_count": 0,
      "outputs": []
    },
    {
      "cell_type": "code",
      "metadata": {
        "id": "EYQhpzF1hOzo",
        "colab_type": "code",
        "outputId": "8a0ad095-ef89-4969-9f92-7d0dfbc834d7",
        "colab": {
          "base_uri": "https://localhost:8080/",
          "height": 72
        }
      },
      "source": [
        "x = sm.add_constant(market_riskpremium) #상수항을 만들어주기 위해 add_constant() 사용\n",
        "model = sm.OLS(stock_excessreturn, x).fit() #(y,x )형태\n"
      ],
      "execution_count": 0,
      "outputs": [
        {
          "output_type": "stream",
          "text": [
            "/usr/local/lib/python3.6/dist-packages/numpy/core/fromnumeric.py:2542: FutureWarning: Method .ptp is deprecated and will be removed in a future version. Use numpy.ptp instead.\n",
            "  return ptp(axis=axis, out=out, **kwargs)\n"
          ],
          "name": "stderr"
        }
      ]
    },
    {
      "cell_type": "code",
      "metadata": {
        "id": "G_O7VxFfiHQj",
        "colab_type": "code",
        "outputId": "3a7b782f-04cd-4d37-9f1d-b3a4d540487f",
        "colab": {
          "base_uri": "https://localhost:8080/",
          "height": 426
        }
      },
      "source": [
        "model.summary()"
      ],
      "execution_count": 0,
      "outputs": [
        {
          "output_type": "execute_result",
          "data": {
            "text/html": [
              "<table class=\"simpletable\">\n",
              "<caption>OLS Regression Results</caption>\n",
              "<tr>\n",
              "  <th>Dep. Variable:</th>         <td>Change</td>      <th>  R-squared:         </th> <td>   0.709</td>\n",
              "</tr>\n",
              "<tr>\n",
              "  <th>Model:</th>                   <td>OLS</td>       <th>  Adj. R-squared:    </th> <td>   0.708</td>\n",
              "</tr>\n",
              "<tr>\n",
              "  <th>Method:</th>             <td>Least Squares</td>  <th>  F-statistic:       </th> <td>   740.8</td>\n",
              "</tr>\n",
              "<tr>\n",
              "  <th>Date:</th>             <td>Sat, 28 Mar 2020</td> <th>  Prob (F-statistic):</th> <td>1.74e-83</td>\n",
              "</tr>\n",
              "<tr>\n",
              "  <th>Time:</th>                 <td>07:18:06</td>     <th>  Log-Likelihood:    </th> <td>  984.03</td>\n",
              "</tr>\n",
              "<tr>\n",
              "  <th>No. Observations:</th>      <td>   306</td>      <th>  AIC:               </th> <td>  -1964.</td>\n",
              "</tr>\n",
              "<tr>\n",
              "  <th>Df Residuals:</th>          <td>   304</td>      <th>  BIC:               </th> <td>  -1957.</td>\n",
              "</tr>\n",
              "<tr>\n",
              "  <th>Df Model:</th>              <td>     1</td>      <th>                     </th>     <td> </td>   \n",
              "</tr>\n",
              "<tr>\n",
              "  <th>Covariance Type:</th>      <td>nonrobust</td>    <th>                     </th>     <td> </td>   \n",
              "</tr>\n",
              "</table>\n",
              "<table class=\"simpletable\">\n",
              "<tr>\n",
              "     <td></td>       <th>coef</th>     <th>std err</th>      <th>t</th>      <th>P>|t|</th>  <th>[0.025</th>    <th>0.975]</th>  \n",
              "</tr>\n",
              "<tr>\n",
              "  <th>const</th>  <td>    0.0014</td> <td>    0.001</td> <td>    2.495</td> <td> 0.013</td> <td>    0.000</td> <td>    0.002</td>\n",
              "</tr>\n",
              "<tr>\n",
              "  <th>Change</th> <td>    1.0802</td> <td>    0.040</td> <td>   27.217</td> <td> 0.000</td> <td>    1.002</td> <td>    1.158</td>\n",
              "</tr>\n",
              "</table>\n",
              "<table class=\"simpletable\">\n",
              "<tr>\n",
              "  <th>Omnibus:</th>       <td>10.651</td> <th>  Durbin-Watson:     </th> <td>   1.904</td>\n",
              "</tr>\n",
              "<tr>\n",
              "  <th>Prob(Omnibus):</th> <td> 0.005</td> <th>  Jarque-Bera (JB):  </th> <td>  11.991</td>\n",
              "</tr>\n",
              "<tr>\n",
              "  <th>Skew:</th>          <td> 0.353</td> <th>  Prob(JB):          </th> <td> 0.00249</td>\n",
              "</tr>\n",
              "<tr>\n",
              "  <th>Kurtosis:</th>      <td> 3.666</td> <th>  Cond. No.          </th> <td>    71.3</td>\n",
              "</tr>\n",
              "</table><br/><br/>Warnings:<br/>[1] Standard Errors assume that the covariance matrix of the errors is correctly specified."
            ],
            "text/plain": [
              "<class 'statsmodels.iolib.summary.Summary'>\n",
              "\"\"\"\n",
              "                            OLS Regression Results                            \n",
              "==============================================================================\n",
              "Dep. Variable:                 Change   R-squared:                       0.709\n",
              "Model:                            OLS   Adj. R-squared:                  0.708\n",
              "Method:                 Least Squares   F-statistic:                     740.8\n",
              "Date:                Sat, 28 Mar 2020   Prob (F-statistic):           1.74e-83\n",
              "Time:                        07:18:06   Log-Likelihood:                 984.03\n",
              "No. Observations:                 306   AIC:                            -1964.\n",
              "Df Residuals:                     304   BIC:                            -1957.\n",
              "Df Model:                           1                                         \n",
              "Covariance Type:            nonrobust                                         \n",
              "==============================================================================\n",
              "                 coef    std err          t      P>|t|      [0.025      0.975]\n",
              "------------------------------------------------------------------------------\n",
              "const          0.0014      0.001      2.495      0.013       0.000       0.002\n",
              "Change         1.0802      0.040     27.217      0.000       1.002       1.158\n",
              "==============================================================================\n",
              "Omnibus:                       10.651   Durbin-Watson:                   1.904\n",
              "Prob(Omnibus):                  0.005   Jarque-Bera (JB):               11.991\n",
              "Skew:                           0.353   Prob(JB):                      0.00249\n",
              "Kurtosis:                       3.666   Cond. No.                         71.3\n",
              "==============================================================================\n",
              "\n",
              "Warnings:\n",
              "[1] Standard Errors assume that the covariance matrix of the errors is correctly specified.\n",
              "\"\"\""
            ]
          },
          "metadata": {
            "tags": []
          },
          "execution_count": 44
        }
      ]
    },
    {
      "cell_type": "code",
      "metadata": {
        "id": "C61wGmuMnjkM",
        "colab_type": "code",
        "outputId": "1bfc3fbf-0b73-49c8-dbe2-02abd23b6676",
        "colab": {
          "base_uri": "https://localhost:8080/",
          "height": 34
        }
      },
      "source": [
        "#모델의 계수 보기\n",
        "\n",
        "const = model.params[0] # 절편\n",
        "beta = model.params[1] # 기울기\n",
        "\n",
        "print(\"const=\", const.round(4), \"beta=\", beta.round(4))"
      ],
      "execution_count": 0,
      "outputs": [
        {
          "output_type": "stream",
          "text": [
            "const= 0.0014 beta= 1.0802\n"
          ],
          "name": "stdout"
        }
      ]
    },
    {
      "cell_type": "code",
      "metadata": {
        "id": "7Xo9H2YjmeYO",
        "colab_type": "code",
        "outputId": "16d473e4-d858-4464-a96c-da97d1439e83",
        "colab": {
          "base_uri": "https://localhost:8080/",
          "height": 90
        }
      },
      "source": [
        "import scipy.stats as stats\n",
        "model2 = stats.linregress(market_riskpremium,stock_excessreturn)\n",
        "print(model2)\n",
        "print(model2.slope)\n",
        "print(model2.intercept)"
      ],
      "execution_count": 0,
      "outputs": [
        {
          "output_type": "stream",
          "text": [
            "LinregressResult(slope=1.0801831470040777, intercept=0.0013904907684772075, rvalue=0.8420380124906691, pvalue=1.7362525658035257e-83, stderr=0.03968756890394623)\n",
            "1.0801831470040777\n",
            "0.0013904907684772075\n"
          ],
          "name": "stdout"
        }
      ]
    },
    {
      "cell_type": "code",
      "metadata": {
        "id": "LXHkDHGKnnNm",
        "colab_type": "code",
        "outputId": "7313081f-e79f-4028-8c2d-f3366d6120ab",
        "colab": {
          "base_uri": "https://localhost:8080/",
          "height": 298
        }
      },
      "source": [
        "#산점도(scatter plot) + 회귀식(regression line) 시각화\n",
        "\n",
        "x_line = np.linspace(k1['Change'].min(), k1['Change'].max(), 100) #회귀식을 그리기 위해 x값을 만들어요\n",
        "# np.linspace(시작값, 끝값, num) -> 시작값과 끝값 사이 num개의 수를 일정한 간격으로 생성\n",
        "y_line = x_line*beta + const\n",
        "\n",
        "plt.scatter(market_riskpremium, stock_excessreturn)\n",
        "plt.plot(x_line, y_line, color='red')\n",
        "plt.xlabel('market_premium(%)')\n",
        "plt.ylabel('excess_stockreturn(%)')\n",
        "plt.legend(['Regression Line', 'Plot'])"
      ],
      "execution_count": 0,
      "outputs": [
        {
          "output_type": "execute_result",
          "data": {
            "text/plain": [
              "<matplotlib.legend.Legend at 0x7fbad644fc50>"
            ]
          },
          "metadata": {
            "tags": []
          },
          "execution_count": 47
        },
        {
          "output_type": "display_data",
          "data": {
            "image/png": "[encoded data removed]",
            "text/plain": [
              "<Figure size 432x288 with 1 Axes>"
            ]
          },
          "metadata": {
            "tags": []
          }
        }
      ]
    },
    {
      "cell_type": "markdown",
      "metadata": {
        "id": "PihtpYVjXEbE",
        "colab_type": "text"
      },
      "source": [
        "# **데이터 시각화 라이브러리 matplotlib**\n",
        "\n",
        "\n",
        "\n"
      ]
    },
    {
      "cell_type": "markdown",
      "metadata": {
        "id": "4IZlb0QEB2cN",
        "colab_type": "text"
      },
      "source": [
        "\n",
        "\n",
        "\n",
        "**<기본 틀>**\n",
        "\n",
        "plt.title(\"제목 입력\")\n",
        "\n",
        " *함수로 원하는 유형의 그래프 생성* \n",
        "\n",
        "plt.xlabel('x축 설명')\n",
        "\n",
        "plt.ylabel('y축 설명')\n",
        "\n",
        "plt.legend([a,b]) #범례 입력\n",
        "\n",
        "plt.show()\n",
        "\n",
        "\n",
        "\n",
        "---\n",
        "\n",
        "\n",
        "\n",
        "**line plot 함수**\n",
        "\n",
        "plt.plot(x, y)\n",
        "\n",
        "\n",
        "---\n",
        "\n",
        "\n",
        "**scatter plot 함수**\n",
        "\n",
        "plt.scatter(x, y)\n",
        "\n",
        "\n",
        "---\n",
        "\n",
        "\n",
        "**bar chart 함수**\n",
        "\n",
        "plt.bar(x, y)\n",
        "\n",
        "\n",
        "\n"
      ]
    },
    {
      "cell_type": "code",
      "metadata": {
        "id": "cNPvTr0fYFc9",
        "colab_type": "code",
        "colab": {}
      },
      "source": [
        "import matplotlib.pyplot as plt"
      ],
      "execution_count": 0,
      "outputs": []
    },
    {
      "cell_type": "code",
      "metadata": {
        "id": "zCJxfkXQYHDl",
        "colab_type": "code",
        "outputId": "4f7abf68-c2a5-4210-ab72-99a286d0e208",
        "colab": {
          "base_uri": "https://localhost:8080/",
          "height": 283
        }
      },
      "source": [
        "#line plot\n",
        "#이차 함수\n",
        "x = np.arange(0, 100, 1)\n",
        "y = x*x\n",
        "plt.plot(x, y)"
      ],
      "execution_count": 0,
      "outputs": [
        {
          "output_type": "execute_result",
          "data": {
            "text/plain": [
              "[<matplotlib.lines.Line2D at 0x7f3076932438>]"
            ]
          },
          "metadata": {
            "tags": []
          },
          "execution_count": 70
        },
        {
          "output_type": "display_data",
          "data": {
            "image/png": "[encoded data removed]",
            "text/plain": [
              "<Figure size 432x288 with 1 Axes>"
            ]
          },
          "metadata": {
            "tags": []
          }
        }
      ]
    },
    {
      "cell_type": "code",
      "metadata": {
        "id": "g5PyTgUJCQyq",
        "colab_type": "code",
        "outputId": "68186e85-322c-44c2-ad67-644a542378c7",
        "colab": {
          "base_uri": "https://localhost:8080/",
          "height": 283
        }
      },
      "source": [
        "#마커 사용법 plot 함수 마지막에 색과 마커 모양 지정\n",
        "import numpy as n\n",
        "x = np.random.uniform(0,2,50)\n",
        "y = np.random.uniform(0,2,50)\n",
        "plt.scatter(x,y, color='purple', marker='*')\n"
      ],
      "execution_count": 0,
      "outputs": [
        {
          "output_type": "execute_result",
          "data": {
            "text/plain": [
              "<matplotlib.collections.PathCollection at 0x7f30772b41d0>"
            ]
          },
          "metadata": {
            "tags": []
          },
          "execution_count": 54
        },
        {
          "output_type": "display_data",
          "data": {
            "image/png": "[encoded data removed]",
            "text/plain": [
              "<Figure size 432x288 with 1 Axes>"
            ]
          },
          "metadata": {
            "tags": []
          }
        }
      ]
    },
    {
      "cell_type": "markdown",
      "metadata": {
        "id": "gNkqYcnmICjm",
        "colab_type": "text"
      },
      "source": [
        "![image.png](data:image/png;base64,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)"
      ]
    },
    {
      "cell_type": "code",
      "metadata": {
        "id": "QxXD8ouIE5xF",
        "colab_type": "code",
        "outputId": "091499d0-9654-416c-8cbc-5e1d6dede9dc",
        "colab": {
          "base_uri": "https://localhost:8080/",
          "height": 285
        }
      },
      "source": [
        "#중첩도 가능합니다\n",
        "x = np.arange(0, 100, 2)\n",
        "y = x*x\n",
        "plt.plot(x, y,color='orange')\n",
        "x1 = np.random.uniform(0,100,50)\n",
        "y1 = np.random.uniform(0,y.max(),50)\n",
        "plt.scatter(x1,y1, color='purple', marker='*')\n",
        "x2 = np.arange(0, 100, 2)\n",
        "y2 = np.random.uniform(y.min(),y.max(),len(x1)) # random한 수 추출\n",
        "plt.bar(x2,y2, color='green')"
      ],
      "execution_count": 0,
      "outputs": [
        {
          "output_type": "execute_result",
          "data": {
            "text/plain": [
              "<BarContainer object of 50 artists>"
            ]
          },
          "metadata": {
            "tags": []
          },
          "execution_count": 99
        },
        {
          "output_type": "display_data",
          "data": {
            "image/png": "[encoded data removed]",
            "text/plain": [
              "<Figure size 432x288 with 1 Axes>"
            ]
          },
          "metadata": {
            "tags": []
          }
        }
      ]
    },
    {
      "cell_type": "code",
      "metadata": {
        "id": "TwfUFazLYHeg",
        "colab_type": "code",
        "outputId": "91aa7d5b-b1dc-4287-8167-79ec7c49b16f",
        "colab": {
          "base_uri": "https://localhost:8080/",
          "height": 482
        }
      },
      "source": [
        "# n 개의 그래프 찍어내기-> Figure 객체 생성해야함!\n",
        "\n",
        "x = np.arange(0.0, 2 * np.pi, 0.1)\n",
        "sin_y = np.sin(x)\n",
        "cos_y = np.cos(x)\n",
        "\n",
        "fig = plt.figure(figsize=(12,8))\n",
        "ax1 = fig.add_subplot(2, 1, 1)\n",
        "ax2 = fig.add_subplot(2, 1, 2)\n",
        "\n",
        "ax1.plot(x, sin_y, 'b--')\n",
        "ax2.plot(x, cos_y, 'r--')\n",
        "\n",
        "plt.show()"
      ],
      "execution_count": 0,
      "outputs": [
        {
          "output_type": "display_data",
          "data": {
            "image/png": "[encoded data removed]",
            "text/plain": [
              "<Figure size 864x576 with 2 Axes>"
            ]
          },
          "metadata": {
            "tags": []
          }
        }
      ]
    },
    {
      "cell_type": "code",
      "metadata": {
        "id": "gf6r_zLEPsFf",
        "colab_type": "code",
        "outputId": "82fd9b1e-58da-4c53-9a9a-8786837fe8d7",
        "colab": {
          "base_uri": "https://localhost:8080/",
          "height": 487
        }
      },
      "source": [
        "# 창의 크기를 다르게 하고 싶을 때\n",
        "fig = plt.figure(figsize=(12, 8))\n",
        "a1 = plt.subplot2grid((4,4), (0,0), rowspan=2, colspan=2)\n",
        "a2 = plt.subplot2grid((4,4), (0,2), rowspan=2, colspan=2)\n",
        "a3 = plt.subplot2grid((4,4), (2,0), rowspan=2, colspan=4)\n",
        "plt.show()"
      ],
      "execution_count": 0,
      "outputs": [
        {
          "output_type": "display_data",
          "data": {
            "image/png": "[encoded data removed]",
            "text/plain": [
              "<Figure size 864x576 with 3 Axes>"
            ]
          },
          "metadata": {
            "tags": []
          }
        }
      ]
    },
    {
      "cell_type": "markdown",
      "metadata": {
        "colab_type": "text",
        "id": "oNwYbDZV4rVc"
      },
      "source": [
        "데이터를 가져와서 작업해 보아요!\n",
        "---\n",
        "\n",
        "[데이터를 가져오는 대표적인 방법]\n",
        "\n",
        "-원하는 데이터가 담긴 엑셀 파일을 다운\n",
        "\n",
        "-금융 데이터 수집 라이브러리 이용(가격 정보)\n",
        "\n",
        "**-웹크롤링**"
      ]
    },
    {
      "cell_type": "code",
      "metadata": {
        "id": "noCX7DH7XIiG",
        "colab_type": "code",
        "colab": {}
      },
      "source": [
        "#필요한 모듈, 라이브러리 import\n",
        "import pandas as pd\n",
        "import numpy as np\n",
        "import matplotlib.pyplot as plt\n",
        "import requests\n",
        "import bs4"
      ],
      "execution_count": 0,
      "outputs": []
    },
    {
      "cell_type": "code",
      "metadata": {
        "id": "fndhBcHGXS1z",
        "colab_type": "code",
        "colab": {}
      },
      "source": [
        "def price_naver(symbol, timeframe, count):\n",
        "    \n",
        "    #making url\n",
        "    \n",
        "    url_a = 'https://fchart.stock.naver.com/sise.nhn?requestType=0'\n",
        "    url_insert =  url_a+'&symbol='+symbol+'&timeframe='+timeframe+'&count='+count\n",
        "\n",
        "    #convert into bs(beautifulsoup) object\n",
        "    \n",
        "    price_raw = requests.get(url_insert)\n",
        "    price_bs = bs4.BeautifulSoup(price_raw.text, 'lxml')\n",
        "    price_list = price_bs.find_all('item')\n",
        "    \n",
        "    #empty sheets\n",
        "    \n",
        "    date_list = []\n",
        "    open_list = []\n",
        "    high_list = []\n",
        "    low_list = []\n",
        "    close_list = []\n",
        "    volume_list = []\n",
        "    \n",
        "    #split the data into date/open/high/low/close/volume\n",
        "    #close - 차트에서 끌어오기 때문에 수정종가로 자동반영\n",
        "    \n",
        "    for piece in price_list:\n",
        "        temp = piece['data']\n",
        "        dp = temp.split('|')\n",
        "        \n",
        "        date_list.append(dp[0])\n",
        "        open_list.append(dp[1])\n",
        "        high_list.append(dp[2])\n",
        "        low_list.append(dp[3])\n",
        "        close_list.append(dp[4])\n",
        "        volume_list.append(dp[5])\n",
        "    \n",
        "    #dataframe으로 합치기\n",
        "    \n",
        "    dp_to_df = pd.DataFrame({'open': open_list, 'high': high_list, 'low': low_list, 'close': close_list, 'vol': volume_list}, index=date_list)\n",
        "    dp_to_df = dp_to_df.astype(float)\n",
        "    \n",
        "    return dp_to_df"
      ],
      "execution_count": 0,
      "outputs": []
    },
    {
      "cell_type": "code",
      "metadata": {
        "id": "jTI2SaJnXgxN",
        "colab_type": "code",
        "colab": {}
      },
      "source": [
        "sk_raw = price_naver('000660', 'day', '1000')\n"
      ],
      "execution_count": 0,
      "outputs": []
    },
    {
      "cell_type": "code",
      "metadata": {
        "id": "jFI8nhnTXt6B",
        "colab_type": "code",
        "outputId": "4762582c-4d53-4eb5-a8d7-8f6eec58a50b",
        "colab": {
          "base_uri": "https://localhost:8080/",
          "height": 34
        }
      },
      "source": [
        "type(sk_raw)"
      ],
      "execution_count": 0,
      "outputs": [
        {
          "output_type": "execute_result",
          "data": {
            "text/plain": [
              "pandas.core.frame.DataFrame"
            ]
          },
          "metadata": {
            "tags": []
          },
          "execution_count": 106
        }
      ]
    },
    {
      "cell_type": "code",
      "metadata": {
        "id": "u8cT19RAXxy2",
        "colab_type": "code",
        "outputId": "22f1a97f-a34c-4191-9d5d-3eb994dd5842",
        "colab": {
          "base_uri": "https://localhost:8080/",
          "height": 190
        }
      },
      "source": [
        "sk_raw.head()"
      ],
      "execution_count": 0,
      "outputs": [
        {
          "output_type": "execute_result",
          "data": {
            "text/html": [
              "<div>\n",
              "<style scoped>\n",
              "    .dataframe tbody tr th:only-of-type {\n",
              "        vertical-align: middle;\n",
              "    }\n",
              "\n",
              "    .dataframe tbody tr th {\n",
              "        vertical-align: top;\n",
              "    }\n",
              "\n",
              "    .dataframe thead th {\n",
              "        text-align: right;\n",
              "    }\n",
              "</style>\n",
              "<table border=\"1\" class=\"dataframe\">\n",
              "  <thead>\n",
              "    <tr style=\"text-align: right;\">\n",
              "      <th></th>\n",
              "      <th>open</th>\n",
              "      <th>high</th>\n",
              "      <th>low</th>\n",
              "      <th>close</th>\n",
              "      <th>vol</th>\n",
              "    </tr>\n",
              "  </thead>\n",
              "  <tbody>\n",
              "    <tr>\n",
              "      <th>20160303</th>\n",
              "      <td>31550.0</td>\n",
              "      <td>32000.0</td>\n",
              "      <td>31100.0</td>\n",
              "      <td>31950.0</td>\n",
              "      <td>3898363.0</td>\n",
              "    </tr>\n",
              "    <tr>\n",
              "      <th>20160304</th>\n",
              "      <td>31800.0</td>\n",
              "      <td>32100.0</td>\n",
              "      <td>31550.0</td>\n",
              "      <td>31900.0</td>\n",
              "      <td>1913316.0</td>\n",
              "    </tr>\n",
              "    <tr>\n",
              "      <th>20160307</th>\n",
              "      <td>32150.0</td>\n",
              "      <td>32250.0</td>\n",
              "      <td>31500.0</td>\n",
              "      <td>31900.0</td>\n",
              "      <td>3487206.0</td>\n",
              "    </tr>\n",
              "    <tr>\n",
              "      <th>20160308</th>\n",
              "      <td>31200.0</td>\n",
              "      <td>31500.0</td>\n",
              "      <td>30300.0</td>\n",
              "      <td>30500.0</td>\n",
              "      <td>4616147.0</td>\n",
              "    </tr>\n",
              "    <tr>\n",
              "      <th>20160309</th>\n",
              "      <td>29900.0</td>\n",
              "      <td>30550.0</td>\n",
              "      <td>29650.0</td>\n",
              "      <td>30550.0</td>\n",
              "      <td>3503375.0</td>\n",
              "    </tr>\n",
              "  </tbody>\n",
              "</table>\n",
              "</div>"
            ],
            "text/plain": [
              "             open     high      low    close        vol\n",
              "20160303  31550.0  32000.0  31100.0  31950.0  3898363.0\n",
              "20160304  31800.0  32100.0  31550.0  31900.0  1913316.0\n",
              "20160307  32150.0  32250.0  31500.0  31900.0  3487206.0\n",
              "20160308  31200.0  31500.0  30300.0  30500.0  4616147.0\n",
              "20160309  29900.0  30550.0  29650.0  30550.0  3503375.0"
            ]
          },
          "metadata": {
            "tags": []
          },
          "execution_count": 107
        }
      ]
    },
    {
      "cell_type": "code",
      "metadata": {
        "id": "RXINXIKaX6Y3",
        "colab_type": "code",
        "colab": {}
      },
      "source": [
        "ma5 = pd.DataFrame(sk_raw['close'].rolling(window=5).mean())\n",
        "ma20 = pd.DataFrame(sk_raw['close'].rolling(window=20).mean())\n",
        "ma60 = pd.DataFrame(sk_raw['close'].rolling(window=60).mean())\n",
        "ma120 = pd.DataFrame(sk_raw['close'].rolling(window=120).mean())\n",
        "sk_raw['5일']=  ma5\n",
        "sk_raw['20일']=  ma20\n",
        "sk_raw['60일']=  ma60\n",
        "sk_raw['120일']=  ma120"
      ],
      "execution_count": 0,
      "outputs": []
    },
    {
      "cell_type": "code",
      "metadata": {
        "id": "TskDxwWxZuej",
        "colab_type": "code",
        "colab": {}
      },
      "source": [
        "sk_ret = sk_raw.close.pct_change()[1:]"
      ],
      "execution_count": 0,
      "outputs": []
    },
    {
      "cell_type": "code",
      "metadata": {
        "id": "nTFP6AreY9uR",
        "colab_type": "code",
        "colab": {}
      },
      "source": [
        "sk_raw['sk_ret']=sk_ret"
      ],
      "execution_count": 0,
      "outputs": []
    },
    {
      "cell_type": "code",
      "metadata": {
        "id": "2PPCniE990du",
        "colab_type": "code",
        "outputId": "3542649b-c56a-4dde-e753-27153f8f1af1",
        "colab": {
          "base_uri": "https://localhost:8080/",
          "height": 392
        }
      },
      "source": [
        "sk_raw"
      ],
      "execution_count": 0,
      "outputs": [
        {
          "output_type": "execute_result",
          "data": {
            "text/html": [
              "<div>\n",
              "<style scoped>\n",
              "    .dataframe tbody tr th:only-of-type {\n",
              "        vertical-align: middle;\n",
              "    }\n",
              "\n",
              "    .dataframe tbody tr th {\n",
              "        vertical-align: top;\n",
              "    }\n",
              "\n",
              "    .dataframe thead th {\n",
              "        text-align: right;\n",
              "    }\n",
              "</style>\n",
              "<table border=\"1\" class=\"dataframe\">\n",
              "  <thead>\n",
              "    <tr style=\"text-align: right;\">\n",
              "      <th></th>\n",
              "      <th>open</th>\n",
              "      <th>high</th>\n",
              "      <th>low</th>\n",
              "      <th>close</th>\n",
              "      <th>vol</th>\n",
              "      <th>5일</th>\n",
              "      <th>20일</th>\n",
              "      <th>60일</th>\n",
              "      <th>120일</th>\n",
              "      <th>sk_ret</th>\n",
              "    </tr>\n",
              "  </thead>\n",
              "  <tbody>\n",
              "    <tr>\n",
              "      <th>20160303</th>\n",
              "      <td>31550.0</td>\n",
              "      <td>32000.0</td>\n",
              "      <td>31100.0</td>\n",
              "      <td>31950.0</td>\n",
              "      <td>3898363.0</td>\n",
              "      <td>NaN</td>\n",
              "      <td>NaN</td>\n",
              "      <td>NaN</td>\n",
              "      <td>NaN</td>\n",
              "      <td>NaN</td>\n",
              "    </tr>\n",
              "    <tr>\n",
              "      <th>20160304</th>\n",
              "      <td>31800.0</td>\n",
              "      <td>32100.0</td>\n",
              "      <td>31550.0</td>\n",
              "      <td>31900.0</td>\n",
              "      <td>1913316.0</td>\n",
              "      <td>NaN</td>\n",
              "      <td>NaN</td>\n",
              "      <td>NaN</td>\n",
              "      <td>NaN</td>\n",
              "      <td>-0.001565</td>\n",
              "    </tr>\n",
              "    <tr>\n",
              "      <th>20160307</th>\n",
              "      <td>32150.0</td>\n",
              "      <td>32250.0</td>\n",
              "      <td>31500.0</td>\n",
              "      <td>31900.0</td>\n",
              "      <td>3487206.0</td>\n",
              "      <td>NaN</td>\n",
              "      <td>NaN</td>\n",
              "      <td>NaN</td>\n",
              "      <td>NaN</td>\n",
              "      <td>0.000000</td>\n",
              "    </tr>\n",
              "    <tr>\n",
              "      <th>20160308</th>\n",
              "      <td>31200.0</td>\n",
              "      <td>31500.0</td>\n",
              "      <td>30300.0</td>\n",
              "      <td>30500.0</td>\n",
              "      <td>4616147.0</td>\n",
              "      <td>NaN</td>\n",
              "      <td>NaN</td>\n",
              "      <td>NaN</td>\n",
              "      <td>NaN</td>\n",
              "      <td>-0.043887</td>\n",
              "    </tr>\n",
              "    <tr>\n",
              "      <th>20160309</th>\n",
              "      <td>29900.0</td>\n",
              "      <td>30550.0</td>\n",
              "      <td>29650.0</td>\n",
              "      <td>30550.0</td>\n",
              "      <td>3503375.0</td>\n",
              "      <td>31360.0</td>\n",
              "      <td>NaN</td>\n",
              "      <td>NaN</td>\n",
              "      <td>NaN</td>\n",
              "      <td>0.001639</td>\n",
              "    </tr>\n",
              "    <tr>\n",
              "      <th>...</th>\n",
              "      <td>...</td>\n",
              "      <td>...</td>\n",
              "      <td>...</td>\n",
              "      <td>...</td>\n",
              "      <td>...</td>\n",
              "      <td>...</td>\n",
              "      <td>...</td>\n",
              "      <td>...</td>\n",
              "      <td>...</td>\n",
              "      <td>...</td>\n",
              "    </tr>\n",
              "    <tr>\n",
              "      <th>20200323</th>\n",
              "      <td>69700.0</td>\n",
              "      <td>71600.0</td>\n",
              "      <td>68000.0</td>\n",
              "      <td>69400.0</td>\n",
              "      <td>8192363.0</td>\n",
              "      <td>73340.0</td>\n",
              "      <td>85705.0</td>\n",
              "      <td>94250.000000</td>\n",
              "      <td>88518.333333</td>\n",
              "      <td>-0.072193</td>\n",
              "    </tr>\n",
              "    <tr>\n",
              "      <th>20200324</th>\n",
              "      <td>73000.0</td>\n",
              "      <td>78800.0</td>\n",
              "      <td>72100.0</td>\n",
              "      <td>78700.0</td>\n",
              "      <td>7247345.0</td>\n",
              "      <td>73000.0</td>\n",
              "      <td>84740.0</td>\n",
              "      <td>93998.333333</td>\n",
              "      <td>88495.833333</td>\n",
              "      <td>0.134006</td>\n",
              "    </tr>\n",
              "    <tr>\n",
              "      <th>20200325</th>\n",
              "      <td>82000.0</td>\n",
              "      <td>84700.0</td>\n",
              "      <td>79800.0</td>\n",
              "      <td>84500.0</td>\n",
              "      <td>8787217.0</td>\n",
              "      <td>75280.0</td>\n",
              "      <td>84235.0</td>\n",
              "      <td>93826.666667</td>\n",
              "      <td>88515.000000</td>\n",
              "      <td>0.073698</td>\n",
              "    </tr>\n",
              "    <tr>\n",
              "      <th>20200326</th>\n",
              "      <td>85000.0</td>\n",
              "      <td>87900.0</td>\n",
              "      <td>80400.0</td>\n",
              "      <td>80700.0</td>\n",
              "      <td>7895289.0</td>\n",
              "      <td>77620.0</td>\n",
              "      <td>83630.0</td>\n",
              "      <td>93571.666667</td>\n",
              "      <td>88504.166667</td>\n",
              "      <td>-0.044970</td>\n",
              "    </tr>\n",
              "    <tr>\n",
              "      <th>20200327</th>\n",
              "      <td>85700.0</td>\n",
              "      <td>85700.0</td>\n",
              "      <td>80500.0</td>\n",
              "      <td>83300.0</td>\n",
              "      <td>8070741.0</td>\n",
              "      <td>79320.0</td>\n",
              "      <td>83400.0</td>\n",
              "      <td>93391.666667</td>\n",
              "      <td>88535.833333</td>\n",
              "      <td>0.032218</td>\n",
              "    </tr>\n",
              "  </tbody>\n",
              "</table>\n",
              "<p>1000 rows × 10 columns</p>\n",
              "</div>"
            ],
            "text/plain": [
              "             open     high      low  ...           60일          120일    sk_ret\n",
              "20160303  31550.0  32000.0  31100.0  ...           NaN           NaN       NaN\n",
              "20160304  31800.0  32100.0  31550.0  ...           NaN           NaN -0.001565\n",
              "20160307  32150.0  32250.0  31500.0  ...           NaN           NaN  0.000000\n",
              "20160308  31200.0  31500.0  30300.0  ...           NaN           NaN -0.043887\n",
              "20160309  29900.0  30550.0  29650.0  ...           NaN           NaN  0.001639\n",
              "...           ...      ...      ...  ...           ...           ...       ...\n",
              "20200323  69700.0  71600.0  68000.0  ...  94250.000000  88518.333333 -0.072193\n",
              "20200324  73000.0  78800.0  72100.0  ...  93998.333333  88495.833333  0.134006\n",
              "20200325  82000.0  84700.0  79800.0  ...  93826.666667  88515.000000  0.073698\n",
              "20200326  85000.0  87900.0  80400.0  ...  93571.666667  88504.166667 -0.044970\n",
              "20200327  85700.0  85700.0  80500.0  ...  93391.666667  88535.833333  0.032218\n",
              "\n",
              "[1000 rows x 10 columns]"
            ]
          },
          "metadata": {
            "tags": []
          },
          "execution_count": 111
        }
      ]
    },
    {
      "cell_type": "code",
      "metadata": {
        "id": "Q72cFTRwZSll",
        "colab_type": "code",
        "colab": {}
      },
      "source": [
        "sk_raw=sk_raw.dropna() # 앞서 pandas에서 다룬 결측치 처리.dropna()!"
      ],
      "execution_count": 0,
      "outputs": []
    },
    {
      "cell_type": "code",
      "metadata": {
        "id": "EEQ5ZLo999IP",
        "colab_type": "code",
        "outputId": "808fa834-bff8-41ef-fb0f-ed87231dc8f6",
        "colab": {
          "base_uri": "https://localhost:8080/",
          "height": 392
        }
      },
      "source": [
        "sk_raw"
      ],
      "execution_count": 0,
      "outputs": [
        {
          "output_type": "execute_result",
          "data": {
            "text/html": [
              "<div>\n",
              "<style scoped>\n",
              "    .dataframe tbody tr th:only-of-type {\n",
              "        vertical-align: middle;\n",
              "    }\n",
              "\n",
              "    .dataframe tbody tr th {\n",
              "        vertical-align: top;\n",
              "    }\n",
              "\n",
              "    .dataframe thead th {\n",
              "        text-align: right;\n",
              "    }\n",
              "</style>\n",
              "<table border=\"1\" class=\"dataframe\">\n",
              "  <thead>\n",
              "    <tr style=\"text-align: right;\">\n",
              "      <th></th>\n",
              "      <th>open</th>\n",
              "      <th>high</th>\n",
              "      <th>low</th>\n",
              "      <th>close</th>\n",
              "      <th>vol</th>\n",
              "      <th>5일</th>\n",
              "      <th>20일</th>\n",
              "      <th>60일</th>\n",
              "      <th>120일</th>\n",
              "      <th>sk_ret</th>\n",
              "    </tr>\n",
              "  </thead>\n",
              "  <tbody>\n",
              "    <tr>\n",
              "      <th>20160824</th>\n",
              "      <td>35900.0</td>\n",
              "      <td>35950.0</td>\n",
              "      <td>35300.0</td>\n",
              "      <td>35750.0</td>\n",
              "      <td>1689924.0</td>\n",
              "      <td>35380.0</td>\n",
              "      <td>34455.0</td>\n",
              "      <td>32039.166667</td>\n",
              "      <td>30126.250000</td>\n",
              "      <td>0.004213</td>\n",
              "    </tr>\n",
              "    <tr>\n",
              "      <th>20160825</th>\n",
              "      <td>35100.0</td>\n",
              "      <td>35750.0</td>\n",
              "      <td>34900.0</td>\n",
              "      <td>35700.0</td>\n",
              "      <td>1568516.0</td>\n",
              "      <td>35690.0</td>\n",
              "      <td>34567.5</td>\n",
              "      <td>32155.833333</td>\n",
              "      <td>30157.500000</td>\n",
              "      <td>-0.001399</td>\n",
              "    </tr>\n",
              "    <tr>\n",
              "      <th>20160826</th>\n",
              "      <td>35850.0</td>\n",
              "      <td>36350.0</td>\n",
              "      <td>35750.0</td>\n",
              "      <td>36250.0</td>\n",
              "      <td>2635343.0</td>\n",
              "      <td>35860.0</td>\n",
              "      <td>34702.5</td>\n",
              "      <td>32285.000000</td>\n",
              "      <td>30193.750000</td>\n",
              "      <td>0.015406</td>\n",
              "    </tr>\n",
              "    <tr>\n",
              "      <th>20160829</th>\n",
              "      <td>35350.0</td>\n",
              "      <td>36400.0</td>\n",
              "      <td>35300.0</td>\n",
              "      <td>36250.0</td>\n",
              "      <td>2782441.0</td>\n",
              "      <td>35910.0</td>\n",
              "      <td>34795.0</td>\n",
              "      <td>32421.666667</td>\n",
              "      <td>30230.000000</td>\n",
              "      <td>0.000000</td>\n",
              "    </tr>\n",
              "    <tr>\n",
              "      <th>20160830</th>\n",
              "      <td>36800.0</td>\n",
              "      <td>36950.0</td>\n",
              "      <td>35550.0</td>\n",
              "      <td>36300.0</td>\n",
              "      <td>2766460.0</td>\n",
              "      <td>36050.0</td>\n",
              "      <td>34867.5</td>\n",
              "      <td>32566.666667</td>\n",
              "      <td>30278.333333</td>\n",
              "      <td>0.001379</td>\n",
              "    </tr>\n",
              "    <tr>\n",
              "      <th>...</th>\n",
              "      <td>...</td>\n",
              "      <td>...</td>\n",
              "      <td>...</td>\n",
              "      <td>...</td>\n",
              "      <td>...</td>\n",
              "      <td>...</td>\n",
              "      <td>...</td>\n",
              "      <td>...</td>\n",
              "      <td>...</td>\n",
              "      <td>...</td>\n",
              "    </tr>\n",
              "    <tr>\n",
              "      <th>20200323</th>\n",
              "      <td>69700.0</td>\n",
              "      <td>71600.0</td>\n",
              "      <td>68000.0</td>\n",
              "      <td>69400.0</td>\n",
              "      <td>8192363.0</td>\n",
              "      <td>73340.0</td>\n",
              "      <td>85705.0</td>\n",
              "      <td>94250.000000</td>\n",
              "      <td>88518.333333</td>\n",
              "      <td>-0.072193</td>\n",
              "    </tr>\n",
              "    <tr>\n",
              "      <th>20200324</th>\n",
              "      <td>73000.0</td>\n",
              "      <td>78800.0</td>\n",
              "      <td>72100.0</td>\n",
              "      <td>78700.0</td>\n",
              "      <td>7247345.0</td>\n",
              "      <td>73000.0</td>\n",
              "      <td>84740.0</td>\n",
              "      <td>93998.333333</td>\n",
              "      <td>88495.833333</td>\n",
              "      <td>0.134006</td>\n",
              "    </tr>\n",
              "    <tr>\n",
              "      <th>20200325</th>\n",
              "      <td>82000.0</td>\n",
              "      <td>84700.0</td>\n",
              "      <td>79800.0</td>\n",
              "      <td>84500.0</td>\n",
              "      <td>8787217.0</td>\n",
              "      <td>75280.0</td>\n",
              "      <td>84235.0</td>\n",
              "      <td>93826.666667</td>\n",
              "      <td>88515.000000</td>\n",
              "      <td>0.073698</td>\n",
              "    </tr>\n",
              "    <tr>\n",
              "      <th>20200326</th>\n",
              "      <td>85000.0</td>\n",
              "      <td>87900.0</td>\n",
              "      <td>80400.0</td>\n",
              "      <td>80700.0</td>\n",
              "      <td>7895289.0</td>\n",
              "      <td>77620.0</td>\n",
              "      <td>83630.0</td>\n",
              "      <td>93571.666667</td>\n",
              "      <td>88504.166667</td>\n",
              "      <td>-0.044970</td>\n",
              "    </tr>\n",
              "    <tr>\n",
              "      <th>20200327</th>\n",
              "      <td>85700.0</td>\n",
              "      <td>85700.0</td>\n",
              "      <td>80500.0</td>\n",
              "      <td>83300.0</td>\n",
              "      <td>8070741.0</td>\n",
              "      <td>79320.0</td>\n",
              "      <td>83400.0</td>\n",
              "      <td>93391.666667</td>\n",
              "      <td>88535.833333</td>\n",
              "      <td>0.032218</td>\n",
              "    </tr>\n",
              "  </tbody>\n",
              "</table>\n",
              "<p>881 rows × 10 columns</p>\n",
              "</div>"
            ],
            "text/plain": [
              "             open     high      low  ...           60일          120일    sk_ret\n",
              "20160824  35900.0  35950.0  35300.0  ...  32039.166667  30126.250000  0.004213\n",
              "20160825  35100.0  35750.0  34900.0  ...  32155.833333  30157.500000 -0.001399\n",
              "20160826  35850.0  36350.0  35750.0  ...  32285.000000  30193.750000  0.015406\n",
              "20160829  35350.0  36400.0  35300.0  ...  32421.666667  30230.000000  0.000000\n",
              "20160830  36800.0  36950.0  35550.0  ...  32566.666667  30278.333333  0.001379\n",
              "...           ...      ...      ...  ...           ...           ...       ...\n",
              "20200323  69700.0  71600.0  68000.0  ...  94250.000000  88518.333333 -0.072193\n",
              "20200324  73000.0  78800.0  72100.0  ...  93998.333333  88495.833333  0.134006\n",
              "20200325  82000.0  84700.0  79800.0  ...  93826.666667  88515.000000  0.073698\n",
              "20200326  85000.0  87900.0  80400.0  ...  93571.666667  88504.166667 -0.044970\n",
              "20200327  85700.0  85700.0  80500.0  ...  93391.666667  88535.833333  0.032218\n",
              "\n",
              "[881 rows x 10 columns]"
            ]
          },
          "metadata": {
            "tags": []
          },
          "execution_count": 113
        }
      ]
    },
    {
      "cell_type": "code",
      "metadata": {
        "id": "eUYjitxFZWNB",
        "colab_type": "code",
        "outputId": "ee6250ef-eb04-4eb2-d22a-09e9d4a7f7ea",
        "colab": {
          "base_uri": "https://localhost:8080/",
          "height": 562
        }
      },
      "source": [
        "fig = plt.figure(figsize=(20, 10))\n",
        "pr_line = plt.subplot2grid((4,4), (0,0), rowspan=3, colspan=4,)\n",
        "vol_bar = plt.subplot2grid((4,4), (3,0), rowspan=1, colspan=4)\n",
        "#이평선\n",
        "pr_line.plot(sk_raw.index, sk_raw['5일'], label='MA5')\n",
        "pr_line.plot(sk_raw.index, sk_raw['20일'], label='MA20')\n",
        "pr_line.plot(sk_raw.index, sk_raw['60일'], label='MA60')\n",
        "pr_line.plot(sk_raw.index, sk_raw['120일'], label='MA120',color='purple' )\n",
        "#캔들\n",
        "pr_line.bar( sk_raw.index, height=sk_raw['close']-sk_raw['open'], bottom=sk_raw['open'], width=1, color= list(map(lambda c: 'red' if c >0 else 'blue', sk_raw['sk_ret'])))\n",
        "pr_line.vlines( sk_raw.index, sk_raw['low'], sk_raw['high'],  color= list(map(lambda c: 'red' if c >0 else 'blue', sk_raw['sk_ret'])))\n",
        "#matplotlib.pyplot.vlines(x, ymin, ymax) vertical line을 그려주어요!\n",
        "\n",
        "'''\n",
        "-color에 들어간 함수의 의미: +인 날은 빨간색으로 -인 날은 파란색으로 표시하도록 하는 함수를 sk_raw['sk_ret']에 모두 적용하고 list로 반환\n",
        "-lambda는 함수를 한 줄로 정의하여 바로 실행할 수 있게 해줍니다.\n",
        "  형태\n",
        "  lambda 인수 : 리턴값을 도출하는 방식을 정의\n",
        "-map은 반복가능한 자료형을 입력으로 받아, 지정된 함수로 처리해서 반환합니다.\n",
        "  형태\n",
        "  map(함수,반복 가능한 자료형)\n",
        "\n",
        "'''\n",
        "vol_bar.bar(sk_raw.index,  sk_raw['vol'])\n",
        "plt.show()\n",
        "\n"
      ],
      "execution_count": 0,
      "outputs": [
        {
          "output_type": "error",
          "ename": "NameError",
          "evalue": "ignored",
          "traceback": [
            "\u001b[0;31m---------------------------------------------------------------------------\u001b[0m",
            "\u001b[0;31mNameError\u001b[0m                                 Traceback (most recent call last)",
            "\u001b[0;32m<ipython-input-48-1c60f31fbf9e>\u001b[0m in \u001b[0;36m<module>\u001b[0;34m()\u001b[0m\n\u001b[1;32m      3\u001b[0m \u001b[0mvol_bar\u001b[0m \u001b[0;34m=\u001b[0m \u001b[0mplt\u001b[0m\u001b[0;34m.\u001b[0m\u001b[0msubplot2grid\u001b[0m\u001b[0;34m(\u001b[0m\u001b[0;34m(\u001b[0m\u001b[0;36m4\u001b[0m\u001b[0;34m,\u001b[0m\u001b[0;36m4\u001b[0m\u001b[0;34m)\u001b[0m\u001b[0;34m,\u001b[0m \u001b[0;34m(\u001b[0m\u001b[0;36m3\u001b[0m\u001b[0;34m,\u001b[0m\u001b[0;36m0\u001b[0m\u001b[0;34m)\u001b[0m\u001b[0;34m,\u001b[0m \u001b[0mrowspan\u001b[0m\u001b[0;34m=\u001b[0m\u001b[0;36m1\u001b[0m\u001b[0;34m,\u001b[0m \u001b[0mcolspan\u001b[0m\u001b[0;34m=\u001b[0m\u001b[0;36m4\u001b[0m\u001b[0;34m)\u001b[0m\u001b[0;34m\u001b[0m\u001b[0;34m\u001b[0m\u001b[0m\n\u001b[1;32m      4\u001b[0m \u001b[0;31m#이평선\u001b[0m\u001b[0;34m\u001b[0m\u001b[0;34m\u001b[0m\u001b[0;34m\u001b[0m\u001b[0m\n\u001b[0;32m----> 5\u001b[0;31m \u001b[0mpr_line\u001b[0m\u001b[0;34m.\u001b[0m\u001b[0mplot\u001b[0m\u001b[0;34m(\u001b[0m\u001b[0msk_raw\u001b[0m\u001b[0;34m.\u001b[0m\u001b[0mindex\u001b[0m\u001b[0;34m,\u001b[0m \u001b[0msk_raw\u001b[0m\u001b[0;34m[\u001b[0m\u001b[0;34m'5일'\u001b[0m\u001b[0;34m]\u001b[0m\u001b[0;34m,\u001b[0m \u001b[0mlabel\u001b[0m\u001b[0;34m=\u001b[0m\u001b[0;34m'MA5'\u001b[0m\u001b[0;34m)\u001b[0m\u001b[0;34m\u001b[0m\u001b[0;34m\u001b[0m\u001b[0m\n\u001b[0m\u001b[1;32m      6\u001b[0m \u001b[0mpr_line\u001b[0m\u001b[0;34m.\u001b[0m\u001b[0mplot\u001b[0m\u001b[0;34m(\u001b[0m\u001b[0msk_raw\u001b[0m\u001b[0;34m.\u001b[0m\u001b[0mindex\u001b[0m\u001b[0;34m,\u001b[0m \u001b[0msk_raw\u001b[0m\u001b[0;34m[\u001b[0m\u001b[0;34m'20일'\u001b[0m\u001b[0;34m]\u001b[0m\u001b[0;34m,\u001b[0m \u001b[0mlabel\u001b[0m\u001b[0;34m=\u001b[0m\u001b[0;34m'MA20'\u001b[0m\u001b[0;34m)\u001b[0m\u001b[0;34m\u001b[0m\u001b[0;34m\u001b[0m\u001b[0m\n\u001b[1;32m      7\u001b[0m \u001b[0mpr_line\u001b[0m\u001b[0;34m.\u001b[0m\u001b[0mplot\u001b[0m\u001b[0;34m(\u001b[0m\u001b[0msk_raw\u001b[0m\u001b[0;34m.\u001b[0m\u001b[0mindex\u001b[0m\u001b[0;34m,\u001b[0m \u001b[0msk_raw\u001b[0m\u001b[0;34m[\u001b[0m\u001b[0;34m'60일'\u001b[0m\u001b[0;34m]\u001b[0m\u001b[0;34m,\u001b[0m \u001b[0mlabel\u001b[0m\u001b[0;34m=\u001b[0m\u001b[0;34m'MA60'\u001b[0m\u001b[0;34m)\u001b[0m\u001b[0;34m\u001b[0m\u001b[0;34m\u001b[0m\u001b[0m\n",
            "\u001b[0;31mNameError\u001b[0m: name 'sk_raw' is not defined"
          ]
        },
        {
          "output_type": "display_data",
          "data": {
            "image/png": "[encoded data removed]",
            "text/plain": [
              "<Figure size 1440x720 with 2 Axes>"
            ]
          },
          "metadata": {
            "tags": []
          }
        }
      ]
    },
    {
      "cell_type": "markdown",
      "metadata": {
        "id": "gOcRChh-XZHx",
        "colab_type": "text"
      },
      "source": [
        "# 고생하셨습니다 :)"
      ]
    }
  ]
}