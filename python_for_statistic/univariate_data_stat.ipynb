{
  "nbformat": 4,
  "nbformat_minor": 0,
  "metadata": {
    "colab": {
      "name": "univariate_data_stat.ipynb",
      "provenance": []
    },
    "kernelspec": {
      "name": "python3",
      "display_name": "Python 3"
    },
    "accelerator": "TPU"
  },
  "cells": [
    {
      "cell_type": "markdown",
      "metadata": {
        "id": "VNm3dehHMF47",
        "colab_type": "text"
      },
      "source": [
        "# 일변량 데이터 (Univariate data)\n",
        "* 1 가지 종류의 데이터만 가지고 있을 경우 일변량 데이터라고 불림.\n",
        "* 아래의 예제에서는 fish_data 라는 변수에 10개의 데이터를 저장, 이는 가공의 물고기 몸길이 데이터"
      ]
    },
    {
      "cell_type": "code",
      "metadata": {
        "id": "FwGuQUumLytM",
        "colab_type": "code",
        "outputId": "dfc91f6b-b8f9-455e-8475-e7b40f902f13",
        "colab": {
          "base_uri": "https://localhost:8080/",
          "height": 34
        }
      },
      "source": [
        "import numpy as np\n",
        "import scipy as sp\n",
        "\n",
        "fish_data = np.array([2,3,3,4,4,4,4,5,5,6])\n",
        "fish_data"
      ],
      "execution_count": 2,
      "outputs": [
        {
          "output_type": "execute_result",
          "data": {
            "text/plain": [
              "array([2, 3, 3, 4, 4, 4, 4, 5, 5, 6])"
            ]
          },
          "metadata": {
            "tags": []
          },
          "execution_count": 2
        }
      ]
    },
    {
      "cell_type": "markdown",
      "metadata": {
        "id": "RF-V0t_FMFbo",
        "colab_type": "text"
      },
      "source": [
        "# 1.1 합계와 sample size\n",
        "\n"
      ]
    },
    {
      "cell_type": "code",
      "metadata": {
        "id": "LpWDq7hfNNpD",
        "colab_type": "code",
        "outputId": "b4d71134-4098-4abd-f034-cf5ee099b391",
        "colab": {
          "base_uri": "https://localhost:8080/",
          "height": 35
        }
      },
      "source": [
        "np.sum(fish_data)                      # 합계값 계산"
      ],
      "execution_count": 0,
      "outputs": [
        {
          "output_type": "execute_result",
          "data": {
            "text/plain": [
              "40"
            ]
          },
          "metadata": {
            "tags": []
          },
          "execution_count": 4
        }
      ]
    },
    {
      "cell_type": "code",
      "metadata": {
        "id": "pp7v2nh7NVw8",
        "colab_type": "code",
        "outputId": "88798caa-7ddb-4166-a3ea-259359ad2d84",
        "colab": {
          "base_uri": "https://localhost:8080/",
          "height": 35
        }
      },
      "source": [
        "len(fish_data)                         # 데이터의 length, 갯수 "
      ],
      "execution_count": 0,
      "outputs": [
        {
          "output_type": "execute_result",
          "data": {
            "text/plain": [
              "10"
            ]
          },
          "metadata": {
            "tags": []
          },
          "execution_count": 5
        }
      ]
    },
    {
      "cell_type": "markdown",
      "metadata": {
        "id": "A4ybPcudNZvv",
        "colab_type": "text"
      },
      "source": [
        "# 1.2 평균값 (기댓값, expected value)\n",
        "\n",
        "---\n",
        "\n",
        "\\begin{align}\n",
        "\\bar x = \\dfrac{1}{N} \\sum_{i=1}^N x_i \n",
        "\\end{align}\n",
        "\n",
        "> formula written in LaTeX\n",
        "\n",
        "* Sample size는 N, 합계값은 sum_value라는 변수에 저장해 평균값을 구함\n",
        "* 평균값은 mu라는 변수에 저장\n",
        "* scipy의 mean 함수를 사용"
      ]
    },
    {
      "cell_type": "code",
      "metadata": {
        "id": "Nj7vdpUZNgLe",
        "colab_type": "code",
        "outputId": "5716bde9-7cfe-4cdc-eaa1-1884b3d2a497",
        "colab": {
          "base_uri": "https://localhost:8080/",
          "height": 70
        }
      },
      "source": [
        "N = len(fish_data)\n",
        "sum_value = sp.sum(fish_data)               # 합계값-sp.sum\n",
        "mu = sum_value / N                          # mu(평균값) = 합계값 / N(sample size)\n",
        "mu "
      ],
      "execution_count": 4,
      "outputs": [
        {
          "output_type": "stream",
          "text": [
            "/usr/local/lib/python3.6/dist-packages/ipykernel_launcher.py:2: DeprecationWarning: scipy.sum is deprecated and will be removed in SciPy 2.0.0, use numpy.sum instead\n",
            "  \n"
          ],
          "name": "stderr"
        },
        {
          "output_type": "execute_result",
          "data": {
            "text/plain": [
              "4.0"
            ]
          },
          "metadata": {
            "tags": []
          },
          "execution_count": 4
        }
      ]
    },
    {
      "cell_type": "code",
      "metadata": {
        "id": "kHiAlRDmRktZ",
        "colab_type": "code",
        "outputId": "2b2b921e-1898-4264-a1dd-1e35787f2d51",
        "colab": {
          "base_uri": "https://localhost:8080/",
          "height": 70
        }
      },
      "source": [
        "sp.mean(fish_data)"
      ],
      "execution_count": 0,
      "outputs": [
        {
          "output_type": "stream",
          "text": [
            "/usr/local/lib/python3.6/dist-packages/ipykernel_launcher.py:1: DeprecationWarning: scipy.mean is deprecated and will be removed in SciPy 2.0.0, use numpy.mean instead\n",
            "  \"\"\"Entry point for launching an IPython kernel.\n"
          ],
          "name": "stderr"
        },
        {
          "output_type": "execute_result",
          "data": {
            "text/plain": [
              "4.0"
            ]
          },
          "metadata": {
            "tags": []
          },
          "execution_count": 7
        }
      ]
    },
    {
      "cell_type": "markdown",
      "metadata": {
        "id": "fNORMBtxRoJ3",
        "colab_type": "text"
      },
      "source": [
        "# 1.3 표본분산 (Sample variance)\n",
        "\n",
        "----\n",
        "\\begin{align}\n",
        "\\sigma^2 = \\dfrac{1}{N} \\sum_{i=1}^N (x_i-\\mu )^2 \n",
        "\\end{align}\n",
        "\n",
        "> formula written in LaTeX \n",
        "\n",
        "* 분산(variance)는 데이터가 평균값에서 얼마나 떨어져 있는지를 나타내는 지표"
      ]
    },
    {
      "cell_type": "code",
      "metadata": {
        "id": "6RFpk7JvRuaW",
        "colab_type": "code",
        "outputId": "468bdf5e-61f9-41c4-9b67-d58fbc83111e",
        "colab": {
          "base_uri": "https://localhost:8080/",
          "height": 70
        }
      },
      "source": [
        "sigma_2_sample = sp.sum((fish_data - mu) **2) / N\n",
        "sigma_2_sample"
      ],
      "execution_count": 0,
      "outputs": [
        {
          "output_type": "stream",
          "text": [
            "/usr/local/lib/python3.6/dist-packages/ipykernel_launcher.py:1: DeprecationWarning: scipy.sum is deprecated and will be removed in SciPy 2.0.0, use numpy.sum instead\n",
            "  \"\"\"Entry point for launching an IPython kernel.\n"
          ],
          "name": "stderr"
        },
        {
          "output_type": "execute_result",
          "data": {
            "text/plain": [
              "1.2"
            ]
          },
          "metadata": {
            "tags": []
          },
          "execution_count": 8
        }
      ]
    },
    {
      "cell_type": "code",
      "metadata": {
        "id": "JR4sZKFNR7LC",
        "colab_type": "code",
        "outputId": "4d461aa2-9b71-4ea0-b019-9dbdffe9dc42",
        "colab": {
          "base_uri": "https://localhost:8080/",
          "height": 35
        }
      },
      "source": [
        "fish_data                               # x_i를 의미"
      ],
      "execution_count": 0,
      "outputs": [
        {
          "output_type": "execute_result",
          "data": {
            "text/plain": [
              "array([2, 3, 3, 4, 4, 4, 4, 5, 5, 6])"
            ]
          },
          "metadata": {
            "tags": []
          },
          "execution_count": 9
        }
      ]
    },
    {
      "cell_type": "code",
      "metadata": {
        "id": "-xVu-UZER-cN",
        "colab_type": "code",
        "outputId": "bd603d60-a512-4e12-e95e-7d1ac2ddca76",
        "colab": {
          "base_uri": "https://localhost:8080/",
          "height": 35
        }
      },
      "source": [
        "fish_data - mu                          # fish_data - mu를 실행하면 x_i - mu(4)에 대한  모든 요소 실행"
      ],
      "execution_count": 0,
      "outputs": [
        {
          "output_type": "execute_result",
          "data": {
            "text/plain": [
              "array([-2., -1., -1.,  0.,  0.,  0.,  0.,  1.,  1.,  2.])"
            ]
          },
          "metadata": {
            "tags": []
          },
          "execution_count": 10
        }
      ]
    },
    {
      "cell_type": "code",
      "metadata": {
        "id": "2SgSA_6ISBNJ",
        "colab_type": "code",
        "outputId": "5ab82c3f-03fb-47a4-d974-ea2fcbd1e319",
        "colab": {
          "base_uri": "https://localhost:8080/",
          "height": 35
        }
      },
      "source": [
        "(fish_data - mu) ** 2"
      ],
      "execution_count": 0,
      "outputs": [
        {
          "output_type": "execute_result",
          "data": {
            "text/plain": [
              "array([4., 1., 1., 0., 0., 0., 0., 1., 1., 4.])"
            ]
          },
          "metadata": {
            "tags": []
          },
          "execution_count": 11
        }
      ]
    },
    {
      "cell_type": "code",
      "metadata": {
        "id": "k0KSRRvISHQ4",
        "colab_type": "code",
        "outputId": "fe5f33f2-aed6-483a-a7a9-43e2a86923c2",
        "colab": {
          "base_uri": "https://localhost:8080/",
          "height": 70
        }
      },
      "source": [
        "sp.sum((fish_data - mu) **2)            # (fish_data - mu)** 2를 하면 모든 요소에 제곱이 됨. (x_i - mu)^2을 모든 요소로 실행한 값"
      ],
      "execution_count": 0,
      "outputs": [
        {
          "output_type": "stream",
          "text": [
            "/usr/local/lib/python3.6/dist-packages/ipykernel_launcher.py:1: DeprecationWarning: scipy.sum is deprecated and will be removed in SciPy 2.0.0, use numpy.sum instead\n",
            "  \"\"\"Entry point for launching an IPython kernel.\n"
          ],
          "name": "stderr"
        },
        {
          "output_type": "execute_result",
          "data": {
            "text/plain": [
              "12.0"
            ]
          },
          "metadata": {
            "tags": []
          },
          "execution_count": 12
        }
      ]
    },
    {
      "cell_type": "code",
      "metadata": {
        "id": "JB3oys1xSM9A",
        "colab_type": "code",
        "outputId": "d0a5c060-7ade-49d5-b545-bb27302afb41",
        "colab": {
          "base_uri": "https://localhost:8080/",
          "height": 70
        }
      },
      "source": [
        "sp.var(fish_data, ddof = 0)            # 위 12.0를 sample size (10)으로 나눈 결괏 값"
      ],
      "execution_count": 0,
      "outputs": [
        {
          "output_type": "stream",
          "text": [
            "/usr/local/lib/python3.6/dist-packages/ipykernel_launcher.py:1: DeprecationWarning: scipy.var is deprecated and will be removed in SciPy 2.0.0, use numpy.var instead\n",
            "  \"\"\"Entry point for launching an IPython kernel.\n"
          ],
          "name": "stderr"
        },
        {
          "output_type": "execute_result",
          "data": {
            "text/plain": [
              "1.2"
            ]
          },
          "metadata": {
            "tags": []
          },
          "execution_count": 13
        }
      ]
    },
    {
      "cell_type": "markdown",
      "metadata": {
        "id": "IX1YYVPb14fj",
        "colab_type": "text"
      },
      "source": [
        "# 1.4 불편분산 (Unbiased estimate of variance) \n",
        "\n",
        "\n",
        "\n",
        "---\n",
        "\n",
        "\\begin{align}\n",
        "\\sigma^2 = \\dfrac{1}{N-1} \\sum_{i=1}^N (x_i-\\mu )^2 \n",
        "\\end{align}\n",
        "\n",
        "\n",
        "> formula written in LaTeX\n",
        "\n",
        "* 표본분산(sample variance)은 표본(sample)의 평균(mean)을 사용해서 분산(variance)을 계산한 값이다. \n",
        "* 표본분산은 분산을 과소추정하는 경향을 가짐\n",
        "\n",
        "* 불편분산은 경향을 없애기 위해 고안, 표본분산보다 조금 큰 값을 가지고 있음"
      ]
    },
    {
      "cell_type": "code",
      "metadata": {
        "id": "06MpsYVR27zS",
        "colab_type": "code",
        "colab": {
          "base_uri": "https://localhost:8080/",
          "height": 70
        },
        "outputId": "8501ce06-0172-4428-8123-6fd7c645a59c"
      },
      "source": [
        "sigma_2 = sp.sum((fish_data - mu) ** 2) / (N - 1)\n",
        "sigma_2"
      ],
      "execution_count": 5,
      "outputs": [
        {
          "output_type": "stream",
          "text": [
            "/usr/local/lib/python3.6/dist-packages/ipykernel_launcher.py:1: DeprecationWarning: scipy.sum is deprecated and will be removed in SciPy 2.0.0, use numpy.sum instead\n",
            "  \"\"\"Entry point for launching an IPython kernel.\n"
          ],
          "name": "stderr"
        },
        {
          "output_type": "execute_result",
          "data": {
            "text/plain": [
              "1.3333333333333333"
            ]
          },
          "metadata": {
            "tags": []
          },
          "execution_count": 5
        }
      ]
    },
    {
      "cell_type": "code",
      "metadata": {
        "id": "RuBXEeRE3bp-",
        "colab_type": "code",
        "colab": {
          "base_uri": "https://localhost:8080/",
          "height": 70
        },
        "outputId": "a6a8d69f-800a-45e2-de41-a7136fe9fdbd"
      },
      "source": [
        "sp.var(fish_data, ddof = 1)"
      ],
      "execution_count": 6,
      "outputs": [
        {
          "output_type": "stream",
          "text": [
            "/usr/local/lib/python3.6/dist-packages/ipykernel_launcher.py:1: DeprecationWarning: scipy.var is deprecated and will be removed in SciPy 2.0.0, use numpy.var instead\n",
            "  \"\"\"Entry point for launching an IPython kernel.\n"
          ],
          "name": "stderr"
        },
        {
          "output_type": "execute_result",
          "data": {
            "text/plain": [
              "1.3333333333333333"
            ]
          },
          "metadata": {
            "tags": []
          },
          "execution_count": 6
        }
      ]
    },
    {
      "cell_type": "markdown",
      "metadata": {
        "id": "6G3PdDVD4rdo",
        "colab_type": "text"
      },
      "source": [
        "# 1.5 표준편차 (standard deviation) \n",
        "\n",
        "\n",
        "\n",
        "---\n",
        "\n",
        "\\begin{align}\n",
        "\\sigma = \\sqrt \\sigma^2 = \\sqrt {\\dfrac{1}{N-1} \\sum_{i=1}^N (x_i-\\mu )^2} \n",
        "\\end{align}\n",
        "\n",
        "\n",
        "> formula written in LaTeX\n",
        "\n",
        "* 분산은 데이터를 제곱하여 계산\n",
        "* 분산에 루트(square root)를 취하여 표준편차 사용"
      ]
    },
    {
      "cell_type": "code",
      "metadata": {
        "id": "cStDOhxA4rJj",
        "colab_type": "code",
        "colab": {
          "base_uri": "https://localhost:8080/",
          "height": 70
        },
        "outputId": "b171ceb8-bf59-4cc2-cdce-dc25457af268"
      },
      "source": [
        "sigma = sp.sqrt(sigma_2)\n",
        "sigma"
      ],
      "execution_count": 7,
      "outputs": [
        {
          "output_type": "stream",
          "text": [
            "/usr/local/lib/python3.6/dist-packages/ipykernel_launcher.py:1: DeprecationWarning: scipy.sqrt is deprecated and will be removed in SciPy 2.0.0, use numpy.lib.scimath.sqrt instead\n",
            "  \"\"\"Entry point for launching an IPython kernel.\n"
          ],
          "name": "stderr"
        },
        {
          "output_type": "execute_result",
          "data": {
            "text/plain": [
              "1.1547005383792515"
            ]
          },
          "metadata": {
            "tags": []
          },
          "execution_count": 7
        }
      ]
    },
    {
      "cell_type": "code",
      "metadata": {
        "id": "4s_De9XX58Em",
        "colab_type": "code",
        "colab": {
          "base_uri": "https://localhost:8080/",
          "height": 70
        },
        "outputId": "2a3182d4-e115-4fb6-e9c3-9fa24a24fb74"
      },
      "source": [
        "sp.std(fish_data, ddof= 1)"
      ],
      "execution_count": 8,
      "outputs": [
        {
          "output_type": "stream",
          "text": [
            "/usr/local/lib/python3.6/dist-packages/ipykernel_launcher.py:1: DeprecationWarning: scipy.std is deprecated and will be removed in SciPy 2.0.0, use numpy.std instead\n",
            "  \"\"\"Entry point for launching an IPython kernel.\n"
          ],
          "name": "stderr"
        },
        {
          "output_type": "execute_result",
          "data": {
            "text/plain": [
              "1.1547005383792515"
            ]
          },
          "metadata": {
            "tags": []
          },
          "execution_count": 8
        }
      ]
    },
    {
      "cell_type": "markdown",
      "metadata": {
        "id": "iI_50uPd6N-W",
        "colab_type": "text"
      },
      "source": [
        "# 1.6 표준화 (Normalization) \n",
        "\n",
        "\n",
        "---\n",
        "* 데이터의 평균을 0으로, 표준편차(분산)를 1로 하는 변환을 **표준화** 라고 함.\n",
        "* 여러 변수를 다룰 때 평균값이 큰 변수와 작은 변수가 섞여 있으면 다루기 어려우니 표준화로 데이터 비교를 실행\n",
        "* 데이터의 평균값을 0으로 하는 것은 모든 데이터에서 평균값을 빼는 것으로 실행\n"
      ]
    },
    {
      "cell_type": "code",
      "metadata": {
        "id": "RI5em6RS6ONU",
        "colab_type": "code",
        "colab": {
          "base_uri": "https://localhost:8080/",
          "height": 34
        },
        "outputId": "08796fb8-c244-40e3-957a-61a8d29b82ca"
      },
      "source": [
        "fish_data - mu                          # 데이터에서 평균값(mu)를 뺌"
      ],
      "execution_count": 9,
      "outputs": [
        {
          "output_type": "execute_result",
          "data": {
            "text/plain": [
              "array([-2., -1., -1.,  0.,  0.,  0.,  0.,  1.,  1.,  2.])"
            ]
          },
          "metadata": {
            "tags": []
          },
          "execution_count": 9
        }
      ]
    },
    {
      "cell_type": "code",
      "metadata": {
        "id": "9FESmqqh67st",
        "colab_type": "code",
        "colab": {
          "base_uri": "https://localhost:8080/",
          "height": 70
        },
        "outputId": "e8741586-f990-4ce4-d16d-75cb60a8a544"
      },
      "source": [
        "sp.mean(fish_data - mu)                 # fish_data - mu의 평균값은 0이됨"
      ],
      "execution_count": 10,
      "outputs": [
        {
          "output_type": "stream",
          "text": [
            "/usr/local/lib/python3.6/dist-packages/ipykernel_launcher.py:1: DeprecationWarning: scipy.mean is deprecated and will be removed in SciPy 2.0.0, use numpy.mean instead\n",
            "  \"\"\"Entry point for launching an IPython kernel.\n"
          ],
          "name": "stderr"
        },
        {
          "output_type": "execute_result",
          "data": {
            "text/plain": [
              "0.0"
            ]
          },
          "metadata": {
            "tags": []
          },
          "execution_count": 10
        }
      ]
    },
    {
      "cell_type": "markdown",
      "metadata": {
        "id": "IGuwzyN47L4o",
        "colab_type": "text"
      },
      "source": [
        "* 데이터의 표준편차(분산)을 1로 만드는 방법은 데이터를 일률적으로 표준편차로 나눈다"
      ]
    },
    {
      "cell_type": "code",
      "metadata": {
        "id": "MR1-_txg7SQr",
        "colab_type": "code",
        "colab": {
          "base_uri": "https://localhost:8080/",
          "height": 52
        },
        "outputId": "20fe064d-808d-451b-844f-9478d74f67e4"
      },
      "source": [
        "fish_data / sigma"
      ],
      "execution_count": 11,
      "outputs": [
        {
          "output_type": "execute_result",
          "data": {
            "text/plain": [
              "array([1.73205081, 2.59807621, 2.59807621, 3.46410162, 3.46410162,\n",
              "       3.46410162, 3.46410162, 4.33012702, 4.33012702, 5.19615242])"
            ]
          },
          "metadata": {
            "tags": []
          },
          "execution_count": 11
        }
      ]
    },
    {
      "cell_type": "code",
      "metadata": {
        "id": "RowNY-xu7clc",
        "colab_type": "code",
        "colab": {
          "base_uri": "https://localhost:8080/",
          "height": 70
        },
        "outputId": "c7743cda-6511-400b-bb76-f5d182ce96a2"
      },
      "source": [
        "sp.std (fish_data / sigma, ddof = 1)     # fish_data의 표준편차는 1이 됨"
      ],
      "execution_count": 12,
      "outputs": [
        {
          "output_type": "stream",
          "text": [
            "/usr/local/lib/python3.6/dist-packages/ipykernel_launcher.py:1: DeprecationWarning: scipy.std is deprecated and will be removed in SciPy 2.0.0, use numpy.std instead\n",
            "  \"\"\"Entry point for launching an IPython kernel.\n"
          ],
          "name": "stderr"
        },
        {
          "output_type": "execute_result",
          "data": {
            "text/plain": [
              "1.0"
            ]
          },
          "metadata": {
            "tags": []
          },
          "execution_count": 12
        }
      ]
    },
    {
      "cell_type": "code",
      "metadata": {
        "id": "9gyhHxXz7rbH",
        "colab_type": "code",
        "colab": {
          "base_uri": "https://localhost:8080/",
          "height": 52
        },
        "outputId": "ae3d167e-dedd-414c-a4a6-0c668263b8d0"
      },
      "source": [
        "standard = (fish_data - mu) / sigma      # 2개의 변환을 합치면 평균이 0이고, 표준편차가 1인 데이터로 변환가능 \n",
        "standard"
      ],
      "execution_count": 13,
      "outputs": [
        {
          "output_type": "execute_result",
          "data": {
            "text/plain": [
              "array([-1.73205081, -0.8660254 , -0.8660254 ,  0.        ,  0.        ,\n",
              "        0.        ,  0.        ,  0.8660254 ,  0.8660254 ,  1.73205081])"
            ]
          },
          "metadata": {
            "tags": []
          },
          "execution_count": 13
        }
      ]
    },
    {
      "cell_type": "code",
      "metadata": {
        "id": "cHbqXQMP77xM",
        "colab_type": "code",
        "colab": {
          "base_uri": "https://localhost:8080/",
          "height": 70
        },
        "outputId": "b7d4cc1b-70ac-4a30-99b8-09c591aa7682"
      },
      "source": [
        "sp.mean(standard)                        # 평균은 0"
      ],
      "execution_count": 14,
      "outputs": [
        {
          "output_type": "stream",
          "text": [
            "/usr/local/lib/python3.6/dist-packages/ipykernel_launcher.py:1: DeprecationWarning: scipy.mean is deprecated and will be removed in SciPy 2.0.0, use numpy.mean instead\n",
            "  \"\"\"Entry point for launching an IPython kernel.\n"
          ],
          "name": "stderr"
        },
        {
          "output_type": "execute_result",
          "data": {
            "text/plain": [
              "2.2204460492503132e-17"
            ]
          },
          "metadata": {
            "tags": []
          },
          "execution_count": 14
        }
      ]
    },
    {
      "cell_type": "code",
      "metadata": {
        "id": "ReBOADLO8EPW",
        "colab_type": "code",
        "colab": {
          "base_uri": "https://localhost:8080/",
          "height": 70
        },
        "outputId": "7db3151c-c059-44d8-8f71-1d4c9d07e079"
      },
      "source": [
        "sp.std(standard, ddof=1)                # 표준편차는 1"
      ],
      "execution_count": 15,
      "outputs": [
        {
          "output_type": "stream",
          "text": [
            "/usr/local/lib/python3.6/dist-packages/ipykernel_launcher.py:1: DeprecationWarning: scipy.std is deprecated and will be removed in SciPy 2.0.0, use numpy.std instead\n",
            "  \"\"\"Entry point for launching an IPython kernel.\n"
          ],
          "name": "stderr"
        },
        {
          "output_type": "execute_result",
          "data": {
            "text/plain": [
              "1.0"
            ]
          },
          "metadata": {
            "tags": []
          },
          "execution_count": 15
        }
      ]
    }
  ]
}